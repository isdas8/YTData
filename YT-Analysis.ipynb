{
 "cells": [
  {
   "cell_type": "code",
   "execution_count": 59,
   "id": "6cf55e7f",
   "metadata": {},
   "outputs": [],
   "source": [
    "from googleapiclient.discovery import build\n",
    "import Config\n",
    "import pandas as pd \n",
    "import seaborn as sns"
   ]
  },
  {
   "cell_type": "markdown",
   "id": "bb888528",
   "metadata": {},
   "source": [
    "Setting Up"
   ]
  },
  {
   "cell_type": "code",
   "execution_count": 62,
   "id": "ac41baff",
   "metadata": {},
   "outputs": [],
   "source": [
    "# Initalising variables\n",
    "api_key = API_KEY\n",
    "channel_ids = ['UCJla13cU_l6Itg8yEtOiAqQ', 'UCPF4bAZimS4T8w1TlbeIAYg', 'UCSXOsOIzeJqJb4h0QlimDww', 'UCjWs7BxyjO5SLqevxSmp4vQ', 'UCy-FOeN-HxrFueHB9Jd8saA']"
   ]
  },
  {
   "cell_type": "code",
   "execution_count": 63,
   "id": "350c2fde",
   "metadata": {},
   "outputs": [],
   "source": [
    "# Get credentials and create an API client\n",
    "youtube = build('youtube', 'v3', developerKey = api_key)"
   ]
  },
  {
   "cell_type": "markdown",
   "id": "43141a77",
   "metadata": {},
   "source": [
    "Pulling Data"
   ]
  },
  {
   "cell_type": "code",
   "execution_count": 78,
   "id": "ae02884f",
   "metadata": {},
   "outputs": [],
   "source": [
    "# Getting channel data\n",
    "def get_channel_stats(youtube, channel_id):\n",
    "    all_data = []\n",
    "    request = youtube.channels().list(\n",
    "        part=\"snippet,contentDetails,statistics\",\n",
    "        id=','.join(channel_ids))\n",
    "    response = request.execute()\n",
    "    for i in range(len(response['items'])):\n",
    "        data = dict(Channel_name = response['items'][i]['snippet']['title'], \n",
    "                Subscribers = response['items'][i]['statistics']['subscriberCount'], \n",
    "                Video_Count = response['items'][i]['statistics']['videoCount'], \n",
    "                Views = response['items'][i]['statistics']['viewCount']) # Data Extraction\n",
    "        all_data.append(data)\n",
    "    return all_data"
   ]
  },
  {
   "cell_type": "code",
   "execution_count": 81,
   "id": "7fe382da",
   "metadata": {},
   "outputs": [],
   "source": [
    "data = get_channel_stats(youtube, channel_ids)\n",
    "channel_df = pd.DataFrame(data) # Creating Dataframe"
   ]
  },
  {
   "cell_type": "code",
   "execution_count": 82,
   "id": "6ae25088",
   "metadata": {},
   "outputs": [
    {
     "data": {
      "text/html": [
       "<div>\n",
       "<style scoped>\n",
       "    .dataframe tbody tr th:only-of-type {\n",
       "        vertical-align: middle;\n",
       "    }\n",
       "\n",
       "    .dataframe tbody tr th {\n",
       "        vertical-align: top;\n",
       "    }\n",
       "\n",
       "    .dataframe thead th {\n",
       "        text-align: right;\n",
       "    }\n",
       "</style>\n",
       "<table border=\"1\" class=\"dataframe\">\n",
       "  <thead>\n",
       "    <tr style=\"text-align: right;\">\n",
       "      <th></th>\n",
       "      <th>Channel_name</th>\n",
       "      <th>Subscribers</th>\n",
       "      <th>Video_Count</th>\n",
       "      <th>Views</th>\n",
       "    </tr>\n",
       "  </thead>\n",
       "  <tbody>\n",
       "    <tr>\n",
       "      <th>0</th>\n",
       "      <td>Faisal Khan</td>\n",
       "      <td>1820000</td>\n",
       "      <td>2476</td>\n",
       "      <td>856704636</td>\n",
       "    </tr>\n",
       "    <tr>\n",
       "      <th>1</th>\n",
       "      <td>V3Cars</td>\n",
       "      <td>457000</td>\n",
       "      <td>832</td>\n",
       "      <td>55859965</td>\n",
       "    </tr>\n",
       "    <tr>\n",
       "      <th>2</th>\n",
       "      <td>Forrest's Auto Reviews</td>\n",
       "      <td>1780000</td>\n",
       "      <td>493</td>\n",
       "      <td>699089986</td>\n",
       "    </tr>\n",
       "    <tr>\n",
       "      <th>3</th>\n",
       "      <td>MotorOctane</td>\n",
       "      <td>3250000</td>\n",
       "      <td>2678</td>\n",
       "      <td>956417336</td>\n",
       "    </tr>\n",
       "    <tr>\n",
       "      <th>4</th>\n",
       "      <td>Autocar India</td>\n",
       "      <td>2220000</td>\n",
       "      <td>3734</td>\n",
       "      <td>855718476</td>\n",
       "    </tr>\n",
       "  </tbody>\n",
       "</table>\n",
       "</div>"
      ],
      "text/plain": [
       "             Channel_name Subscribers Video_Count      Views\n",
       "0             Faisal Khan     1820000        2476  856704636\n",
       "1                  V3Cars      457000         832   55859965\n",
       "2  Forrest's Auto Reviews     1780000         493  699089986\n",
       "3             MotorOctane     3250000        2678  956417336\n",
       "4           Autocar India     2220000        3734  855718476"
      ]
     },
     "execution_count": 82,
     "metadata": {},
     "output_type": "execute_result"
    }
   ],
   "source": [
    "channel_df"
   ]
  },
  {
   "cell_type": "markdown",
   "id": "4a758e1b",
   "metadata": {},
   "source": [
    "Preparing Data"
   ]
  },
  {
   "cell_type": "code",
   "execution_count": 85,
   "id": "6a7c4049",
   "metadata": {},
   "outputs": [
    {
     "data": {
      "text/plain": [
       "Channel_name    object\n",
       "Subscribers      int64\n",
       "Video_Count      int64\n",
       "Views            int64\n",
       "dtype: object"
      ]
     },
     "execution_count": 85,
     "metadata": {},
     "output_type": "execute_result"
    }
   ],
   "source": [
    "#Numeric Data\n",
    "channel_df['Subscribers'] = pd.to_numeric(channel_df['Subscribers'])\n",
    "channel_df['Views'] = pd.to_numeric(channel_df['Views'])\n",
    "channel_df['Video_Count'] = pd.to_numeric(channel_df['Video_Count'])\n",
    "channel_df.dtypes"
   ]
  },
  {
   "cell_type": "code",
   "execution_count": 95,
   "id": "2962140f",
   "metadata": {},
   "outputs": [],
   "source": [
    "#Adding a new column\n",
    "channel_df['Avg_Views'] = channel_df['Views'].to_numpy()/channel_df['Video_Count'].to_numpy()\n",
    "pd.set_option('display.float_format', lambda x: '%.3f' % x) #Drop scientific notation\n",
    "channel_df['Avg_Views'] = pd.to_numeric(channel_df['Avg_Views'])"
   ]
  },
  {
   "cell_type": "code",
   "execution_count": 97,
   "id": "c2e5a96b",
   "metadata": {},
   "outputs": [
    {
     "data": {
      "text/plain": [
       "Channel_name     object\n",
       "Subscribers       int64\n",
       "Video_Count       int64\n",
       "Views             int64\n",
       "Avg_Views       float64\n",
       "dtype: object"
      ]
     },
     "execution_count": 97,
     "metadata": {},
     "output_type": "execute_result"
    }
   ],
   "source": [
    "channel_df.dtypes"
   ]
  },
  {
   "cell_type": "code",
   "execution_count": null,
   "id": "3916cabf",
   "metadata": {},
   "outputs": [],
   "source": []
  }
 ],
 "metadata": {
  "kernelspec": {
   "display_name": "Python 3 (ipykernel)",
   "language": "python",
   "name": "python3"
  },
  "language_info": {
   "codemirror_mode": {
    "name": "ipython",
    "version": 3
   },
   "file_extension": ".py",
   "mimetype": "text/x-python",
   "name": "python",
   "nbconvert_exporter": "python",
   "pygments_lexer": "ipython3",
   "version": "3.9.17"
  }
 },
 "nbformat": 4,
 "nbformat_minor": 5
}
